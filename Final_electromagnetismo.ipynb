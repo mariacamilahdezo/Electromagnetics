{
 "cells": [
  {
   "cell_type": "code",
   "execution_count": 86,
   "metadata": {},
   "outputs": [],
   "source": [
    "import numpy as np\n",
    "e0=8.854e-12 # [F/m] free space permittivity\n",
    "mu0=4*np.pi*1e-7 #[H/m] free space permeability\n",
    "etha0=376.7 # [ohm] free space (intrinsic) impedance\n",
    "c0=299792458 # [m/s] free space light speed\n",
    "sigma_Cu=5.8e7 # conductivity Cu S/m\n",
    "er=1;mur=1\n",
    "tand=0.0003\n",
    "etha=etha0/er**0.5\n",
    "a=0.02286\n",
    "b=0.01016\n",
    "f=12e9\n",
    "k=(2*np.pi*1.2e10)/(299792458) # Metros^{-1}\n",
    "attconst=np.sqrt((np.pi/(a/2))**2-k**2)\n",
    "atten=np.array([1.1512925465,2.302585093,4.605170186,6.907755279,9.210340372,11.512925465]) # Neper\n",
    "\n",
    "long= (atten/attconst)*100 # En cm\n",
    "\n",
    "fc=(299792458)/(2*a)\n",
    "f/fc\n",
    "Np2dB=10*np.log10(np.exp(1)**2);\n",
    "Rs=(np.pi*f*mu0/sigma_Cu)**0.5\n",
    "m=1\n",
    "n=0\n",
    "#kc=((m*np.pi/a)**2+(n*np.pi/b)**2)**0.5\n",
    "beta=(k**2-kc**2)**0.5\n",
    "kc=np.pi/(a/2)\n",
    "gamma=(kc**2-k**2)**0.5 # = alpha + j*beta\n",
    "alpha_d=k**2*tand/(2*abs(beta))\n",
    "alpha=gamma\n",
    "alpha2=alpha+alpha_d\n",
    "dist100_2=100/(alpha*Np2dB)"
   ]
  },
  {
   "cell_type": "code",
   "execution_count": 92,
   "metadata": {},
   "outputs": [
    {
     "data": {
      "text/plain": [
       "0.10384099497423625"
      ]
     },
     "execution_count": 92,
     "metadata": {},
     "output_type": "execute_result"
    }
   ],
   "source": [
    "dist100_2"
   ]
  },
  {
   "cell_type": "code",
   "execution_count": 84,
   "metadata": {},
   "outputs": [],
   "source": [
    "Np2dB=10*np.log(np.exp(1)**2);\n",
    "Rs=(np.pi*f*mu0/sigma_Cu)**0.5\n",
    "k=2*np.pi*f*(mu0*mur*e0*er)**0.5"
   ]
  },
  {
   "cell_type": "code",
   "execution_count": 85,
   "metadata": {},
   "outputs": [
    {
     "data": {
      "text/plain": [
       "110.87071601949378"
      ]
     },
     "execution_count": 85,
     "metadata": {},
     "output_type": "execute_result"
    }
   ],
   "source": [
    "gamma"
   ]
  },
  {
   "cell_type": "code",
   "execution_count": 75,
   "metadata": {},
   "outputs": [
    {
     "data": {
      "text/plain": [
       "137.42750015703382"
      ]
     },
     "execution_count": 75,
     "metadata": {},
     "output_type": "execute_result"
    }
   ],
   "source": [
    "kc"
   ]
  },
  {
   "cell_type": "code",
   "execution_count": 76,
   "metadata": {},
   "outputs": [
    {
     "data": {
      "text/plain": [
       "251.498735159418"
      ]
     },
     "execution_count": 76,
     "metadata": {},
     "output_type": "execute_result"
    }
   ],
   "source": [
    "2*np.pi*f*(mu0*mur*e0*er)**0.5"
   ]
  },
  {
   "cell_type": "code",
   "execution_count": 79,
   "metadata": {},
   "outputs": [
    {
     "data": {
      "text/plain": [
       "(0.04504471290599759+210.63389501112908j)"
      ]
     },
     "execution_count": 79,
     "metadata": {},
     "output_type": "execute_result"
    }
   ],
   "source": [
    "alpha+alpha_d"
   ]
  },
  {
   "cell_type": "code",
   "execution_count": 80,
   "metadata": {},
   "outputs": [
    {
     "data": {
      "text/plain": [
       "0.04504471290598469"
      ]
     },
     "execution_count": 80,
     "metadata": {},
     "output_type": "execute_result"
    }
   ],
   "source": [
    "k**2*tand/(2*abs(beta))"
   ]
  },
  {
   "cell_type": "code",
   "execution_count": 77,
   "metadata": {},
   "outputs": [
    {
     "data": {
      "text/plain": [
       "(1.2897411239058338e-14+210.63070998165378j)"
      ]
     },
     "execution_count": 77,
     "metadata": {},
     "output_type": "execute_result"
    }
   ],
   "source": [
    "(kc**2-k**2)**0.5"
   ]
  },
  {
   "cell_type": "code",
   "execution_count": 88,
   "metadata": {},
   "outputs": [
    {
     "data": {
      "text/plain": [
       "963.0108034385723"
      ]
     },
     "execution_count": 88,
     "metadata": {},
     "output_type": "execute_result"
    }
   ],
   "source": [
    "alpha*Np2dB"
   ]
  },
  {
   "cell_type": "code",
   "execution_count": 89,
   "metadata": {},
   "outputs": [
    {
     "data": {
      "text/plain": [
       "110.87071601949378"
      ]
     },
     "execution_count": 89,
     "metadata": {},
     "output_type": "execute_result"
    }
   ],
   "source": [
    "alpha"
   ]
  },
  {
   "cell_type": "code",
   "execution_count": 90,
   "metadata": {},
   "outputs": [
    {
     "data": {
      "text/plain": [
       "963.0108034385723"
      ]
     },
     "execution_count": 90,
     "metadata": {},
     "output_type": "execute_result"
    }
   ],
   "source": [
    "10*np.log10(np.exp(1)**2)*alpha"
   ]
  },
  {
   "cell_type": "code",
   "execution_count": 98,
   "metadata": {},
   "outputs": [
    {
     "data": {
      "text/plain": [
       "0.010384099497423624"
      ]
     },
     "execution_count": 98,
     "metadata": {},
     "output_type": "execute_result"
    }
   ],
   "source": [
    "10/(alpha*10*np.log10(np.exp(1)**2))"
   ]
  },
  {
   "cell_type": "code",
   "execution_count": 97,
   "metadata": {},
   "outputs": [
    {
     "data": {
      "text/plain": [
       "0.10384099497423625"
      ]
     },
     "execution_count": 97,
     "metadata": {},
     "output_type": "execute_result"
    }
   ],
   "source": [
    "100/(alpha*Np2dB)"
   ]
  },
  {
   "cell_type": "code",
   "execution_count": null,
   "metadata": {},
   "outputs": [],
   "source": []
  }
 ],
 "metadata": {
  "kernelspec": {
   "display_name": "Python 3",
   "language": "python",
   "name": "python3"
  },
  "language_info": {
   "codemirror_mode": {
    "name": "ipython",
    "version": 3
   },
   "file_extension": ".py",
   "mimetype": "text/x-python",
   "name": "python",
   "nbconvert_exporter": "python",
   "pygments_lexer": "ipython3",
   "version": "3.8.3"
  }
 },
 "nbformat": 4,
 "nbformat_minor": 4
}
