{
 "cells": [
  {
   "cell_type": "code",
   "execution_count": null,
   "metadata": {},
   "outputs": [],
   "source": [
    "import numpy as np\n",
    "import matplotlib.plyplot as plt\n",
    "from math import sin\n",
    "\n",
    "\n",
    "#Variables globales\n",
    "dx=1e-4\n",
    "dt=3e-12\n",
    "Tt=200 #Cantidad de pasos\n",
    "Np=260 #Discretizando sobre dx hasta 260 veces\n",
    "e0=8.85e-12\n",
    "m0=4*pi*1e-7\n",
    "f0=10.5e9 #Frecuencias\n",
    "#Vectores de almacenamiento\n",
    "Ey=np.zeros(Np, dtype=long)\n",
    "Hz=np.zeros(Np, dtype=long)\n",
    "\n",
    "#Vector de epsilon\n",
    "er=np.zeros(Np, dtype=int)\n",
    "er=[0:25]=1\n",
    "er[25:30]=2.2\n",
    "er[30:150]=12\n",
    "er=er*e0\n",
    "\n",
    "#Valor diferente depermeabilidad\n",
    "mr= np.zeros(Np,dtype=int)+1\n",
    "mr=mr*m0\n",
    "\n",
    "for i in range(0,Tt):\n",
    "    for j in range(1,Np):\n",
    "        Ey[j]=Ey[j]-(dt/(dx*er[j]))*(Hz[j]-Hz[j-1]))\n",
    "        \n",
    "    #Calcular el campo que excita la onda 0 (1V/m)*sen(2*pi*f0*dt*i)    \n",
    "    Ey[20]= (1.0)*sen(2*pi*f0*dt*i)    \n",
    "    for j in range(0,Np):\n",
    "        Hz[j]=Hz[j]-(((dt/(dx*ur[j]))*(Ey[j+1]-Ey[j]))\n",
    "                     \n",
    "#Grafica         \n",
    "    "
   ]
  }
 ],
 "metadata": {
  "kernelspec": {
   "display_name": "Python 3",
   "language": "python",
   "name": "python3"
  },
  "language_info": {
   "codemirror_mode": {
    "name": "ipython",
    "version": 3
   },
   "file_extension": ".py",
   "mimetype": "text/x-python",
   "name": "python",
   "nbconvert_exporter": "python",
   "pygments_lexer": "ipython3",
   "version": "3.8.5"
  }
 },
 "nbformat": 4,
 "nbformat_minor": 4
}
